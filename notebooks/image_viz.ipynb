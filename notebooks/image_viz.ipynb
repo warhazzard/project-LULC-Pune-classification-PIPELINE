{
 "cells": [
  {
   "cell_type": "code",
   "execution_count": 1,
   "id": "5a8d34d0",
   "metadata": {},
   "outputs": [],
   "source": [
    "import rasterio \n",
    "import matplotlib.pyplot as plt\n",
    "import numpy as np\n",
    "import fetch_data as fd \n",
    "import geemap \n",
    "import ee"
   ]
  },
  {
   "cell_type": "code",
   "execution_count": 6,
   "id": "d7f01fbc",
   "metadata": {},
   "outputs": [
    {
     "data": {
      "text/html": [
       "\n",
       "            <style>\n",
       "                .geemap-dark {\n",
       "                    --jp-widgets-color: white;\n",
       "                    --jp-widgets-label-color: white;\n",
       "                    --jp-ui-font-color1: white;\n",
       "                    --jp-layout-color2: #454545;\n",
       "                    background-color: #383838;\n",
       "                }\n",
       "\n",
       "                .geemap-dark .jupyter-button {\n",
       "                    --jp-layout-color3: #383838;\n",
       "                }\n",
       "\n",
       "                .geemap-colab {\n",
       "                    background-color: var(--colab-primary-surface-color, white);\n",
       "                }\n",
       "\n",
       "                .geemap-colab .jupyter-button {\n",
       "                    --jp-layout-color3: var(--colab-primary-surface-color, white);\n",
       "                }\n",
       "            </style>\n",
       "            "
      ],
      "text/plain": [
       "<IPython.core.display.HTML object>"
      ]
     },
     "metadata": {},
     "output_type": "display_data"
    }
   ],
   "source": [
    "# Authenticate and initialize Earth Engine  \n",
    "fd.authenticate_gee()\n",
    "\n",
    "# Define the region of interest (ROI)\n",
    "roi = ee.Geometry.Polygon([\n",
    "    [[73.3933018836958, 18.88730081255972],\n",
    "    [73.3933018836958, 18.265071030538323],\n",
    "    [74.1733311805708, 18.265071030538323],\n",
    "    [74.1733311805708, 18.88730081255972]]\n",
    "])\n",
    "\n",
    "# Load datasets\n",
    "s2 = ee.ImageCollection(\"COPERNICUS/S2_SR_HARMONIZED\")\n",
    "csPlus = ee.ImageCollection(\"GOOGLE/CLOUD_SCORE_PLUS/V1/S2_HARMONIZED\")\n",
    "\n",
    "# Define date filters\n",
    "dateFilter_2019 = ee.Filter.date('2019-01-01', '2019-12-30')\n",
    "dateFilter_2024 = ee.Filter.date('2024-01-01', '2024-12-15')\n",
    "\n",
    "# Define metadata filters\n",
    "cloudFilter = ee.Filter.lt('CLOUDY_PIXEL_PERCENTAGE', 2)\n",
    "\n",
    "# Cloud Score+ QA bands\n",
    "qa_band = 'cs_cdf'\n",
    "clear_threshold = 0.60\n",
    "\n",
    "# Get filtered images for 2019 and 2024\n",
    "imgCollection_2019 = fd.filter_image_collection(s2, csPlus, dateFilter_2019, roi, cloudFilter, qa_band, clear_threshold)\n",
    "imgCollection_2024 = fd.filter_image_collection(s2, csPlus, dateFilter_2024, roi, cloudFilter, qa_band, clear_threshold)\n",
    "\n",
    "# Create composite images\n",
    "imgComp2019 = fd.create_image_composite(imgCollection_2019)\n",
    "imgComp2024 = fd.create_image_composite(imgCollection_2024)\n",
    "\n",
    "# Clamp images to remove outliers\n",
    "clampedImage2019 = fd.clamp_img(imgComp2019, roi)\n",
    "clampedImage2024 = fd.clamp_img(imgComp2024, roi)\n",
    "\n",
    "# Resample images to 10m resolution\n",
    "band_list = ['B1', 'B5', 'B6', 'B7', 'B8A', 'B9', 'B11', 'B12']\n",
    "resampledImage2019 = fd.resample_image_to_10m(clampedImage2019, band_list)\n",
    "resampledImage2024 = fd.resample_image_to_10m(clampedImage2024, band_list)"
   ]
  },
  {
   "cell_type": "code",
   "execution_count": 7,
   "id": "e20168a3",
   "metadata": {},
   "outputs": [
    {
     "data": {
      "text/html": [
       "\n",
       "            <style>\n",
       "                .geemap-dark {\n",
       "                    --jp-widgets-color: white;\n",
       "                    --jp-widgets-label-color: white;\n",
       "                    --jp-ui-font-color1: white;\n",
       "                    --jp-layout-color2: #454545;\n",
       "                    background-color: #383838;\n",
       "                }\n",
       "\n",
       "                .geemap-dark .jupyter-button {\n",
       "                    --jp-layout-color3: #383838;\n",
       "                }\n",
       "\n",
       "                .geemap-colab {\n",
       "                    background-color: var(--colab-primary-surface-color, white);\n",
       "                }\n",
       "\n",
       "                .geemap-colab .jupyter-button {\n",
       "                    --jp-layout-color3: var(--colab-primary-surface-color, white);\n",
       "                }\n",
       "            </style>\n",
       "            "
      ],
      "text/plain": [
       "<IPython.core.display.HTML object>"
      ]
     },
     "metadata": {},
     "output_type": "display_data"
    },
    {
     "data": {
      "application/vnd.jupyter.widget-view+json": {
       "model_id": "4d1ff05722c2434eb0f9711dc38a6343",
       "version_major": 2,
       "version_minor": 0
      },
      "text/plain": [
       "Map(center=[18.576397493878297, 73.78331653213331], controls=(WidgetControl(options=['position', 'transparent_…"
      ]
     },
     "metadata": {},
     "output_type": "display_data"
    }
   ],
   "source": [
    "# Visualization Parameters\n",
    "vizParams = {\n",
    "    'bands': ['B4', 'B3', 'B2'],\n",
    "    'min': 88,\n",
    "    'max': 2443\n",
    "}\n",
    "\n",
    "vizParamsScaled = {\n",
    "    'bands': ['B4', 'B3', 'B2'],\n",
    "    'min': 0,\n",
    "    'max': 1\n",
    "}\n",
    "\n",
    "# Create a Map\n",
    "Map = geemap.Map()\n",
    "Map.centerObject(roi, 10)\n",
    "\n",
    "# Add layers\n",
    "Map.addLayer(resampledImage2019, vizParams, 'Preprocessed 2019')\n",
    "Map.addLayer(resampledImage2024, vizParams, 'Preprocessed 2024')\n",
    "Map"
   ]
  },
  {
   "cell_type": "code",
   "execution_count": 12,
   "id": "6a08d8ef",
   "metadata": {},
   "outputs": [
    {
     "data": {
      "text/html": [
       "\n",
       "            <style>\n",
       "                .geemap-dark {\n",
       "                    --jp-widgets-color: white;\n",
       "                    --jp-widgets-label-color: white;\n",
       "                    --jp-ui-font-color1: white;\n",
       "                    --jp-layout-color2: #454545;\n",
       "                    background-color: #383838;\n",
       "                }\n",
       "\n",
       "                .geemap-dark .jupyter-button {\n",
       "                    --jp-layout-color3: #383838;\n",
       "                }\n",
       "\n",
       "                .geemap-colab {\n",
       "                    background-color: var(--colab-primary-surface-color, white);\n",
       "                }\n",
       "\n",
       "                .geemap-colab .jupyter-button {\n",
       "                    --jp-layout-color3: var(--colab-primary-surface-color, white);\n",
       "                }\n",
       "            </style>\n",
       "            "
      ],
      "text/plain": [
       "<IPython.core.display.HTML object>"
      ]
     },
     "metadata": {},
     "output_type": "display_data"
    },
    {
     "data": {
      "application/vnd.jupyter.widget-view+json": {
       "model_id": "e8a5e5a26a534befb5a5fa0befecd01d",
       "version_major": 2,
       "version_minor": 0
      },
      "text/plain": [
       "Map(center=[18.576397493878297, 73.78331653213331], controls=(WidgetControl(options=['position', 'transparent_…"
      ]
     },
     "metadata": {},
     "output_type": "display_data"
    }
   ],
   "source": [
    "Map2 = geemap.Map()\n",
    "Map2.centerObject(roi, 10)\n",
    "image = 'resampledImage2019.tif'\n",
    "Map2.addLayer(image)\n",
    "Map2 \n",
    "\n",
    "\n",
    "# # Open the Sentinel-2 raster file\n",
    "# with rasterio.open('resampledImage2019.tif') as src:\n",
    "#     # Read the red, green, and blue bands (assuming bands 4, 3, and 2 are in order)\n",
    "#     red = src.read(4)\n",
    "#     green = src.read(3)\n",
    "#     blue = src.read(2)\n",
    "\n",
    "# # Normalize the bands for visualization\n",
    "# red = red / red.max()\n",
    "# green = green / green.max()\n",
    "# blue = blue / blue.max()\n",
    "\n",
    "# # Stack the bands into an RGB image\n",
    "# rgb = np.dstack((red, green, blue))\n",
    "\n",
    "# # Plot the RGB image\n",
    "# plt.figure(figsize=(10, 10))\n",
    "# plt.imshow(rgb)\n",
    "# plt.axis('off')\n",
    "# plt.title('Sentinel-2 RGB Visualization')\n",
    "# plt.show()"
   ]
  }
 ],
 "metadata": {
  "kernelspec": {
   "display_name": "geo-python",
   "language": "python",
   "name": "python3"
  },
  "language_info": {
   "codemirror_mode": {
    "name": "ipython",
    "version": 3
   },
   "file_extension": ".py",
   "mimetype": "text/x-python",
   "name": "python",
   "nbconvert_exporter": "python",
   "pygments_lexer": "ipython3",
   "version": "3.13.2"
  }
 },
 "nbformat": 4,
 "nbformat_minor": 5
}
